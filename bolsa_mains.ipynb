{
 "cells": [
  {
   "cell_type": "code",
   "execution_count": null,
   "id": "b7a0a6df",
   "metadata": {},
   "outputs": [],
   "source": [
    "#função para verificar a última versão disponível de arquivos .csv Bolsa família no Portal da Transparência\n",
    "\n",
    "#utilizar selenium para verificar\n",
    "\n",
    "#end para verif: https://www.portaltransparencia.gov.br/download-de-dados/bolsa-familia-pagamentos"
   ]
  }
 ],
 "metadata": {
  "kernelspec": {
   "display_name": "Python 3 (ipykernel)",
   "language": "python",
   "name": "python3"
  },
  "language_info": {
   "codemirror_mode": {
    "name": "ipython",
    "version": 3
   },
   "file_extension": ".py",
   "mimetype": "text/x-python",
   "name": "python",
   "nbconvert_exporter": "python",
   "pygments_lexer": "ipython3",
   "version": "3.8.12"
  }
 },
 "nbformat": 4,
 "nbformat_minor": 5
}
